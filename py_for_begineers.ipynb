{
  "nbformat": 4,
  "nbformat_minor": 0,
  "metadata": {
    "colab": {
      "name": "py for begineers",
      "provenance": [],
      "collapsed_sections": [],
      "authorship_tag": "ABX9TyMwsVarVQ9XfO3bwP4MBt75",
      "include_colab_link": true
    },
    "kernelspec": {
      "name": "python3",
      "display_name": "Python 3"
    },
    "language_info": {
      "name": "python"
    }
  },
  "cells": [
    {
      "cell_type": "markdown",
      "metadata": {
        "id": "view-in-github",
        "colab_type": "text"
      },
      "source": [
        "<a href=\"https://colab.research.google.com/github/akshaykumar34/python-programs/blob/main/py_for_begineers.ipynb\" target=\"_parent\"><img src=\"https://colab.research.google.com/assets/colab-badge.svg\" alt=\"Open In Colab\"/></a>"
      ]
    },
    {
      "cell_type": "code",
      "execution_count": null,
      "metadata": {
        "colab": {
          "base_uri": "https://localhost:8080/",
          "height": 35
        },
        "id": "9ftHKRxexSzK",
        "outputId": "24034005-bf94-4a97-fd91-35fca7a4a174"
      },
      "outputs": [
        {
          "output_type": "execute_result",
          "data": {
            "application/vnd.google.colaboratory.intrinsic+json": {
              "type": "string"
            },
            "text/plain": [
              "'0.889'"
            ]
          },
          "metadata": {},
          "execution_count": 2
        }
      ],
      "source": [
        "8/9\n",
        "format(8/9,\".3f\")"
      ]
    },
    {
      "cell_type": "code",
      "source": [
        "#to know more about keywords type below code keywords in cmd py \n",
        "help =('Keywords')\n",
        "print(help)"
      ],
      "metadata": {
        "colab": {
          "base_uri": "https://localhost:8080/"
        },
        "id": "nx73lcs5y4iG",
        "outputId": "f1c9dac0-2432-425d-92b5-dee42350a18a"
      },
      "execution_count": null,
      "outputs": [
        {
          "output_type": "stream",
          "name": "stdout",
          "text": [
            "Keywords\n"
          ]
        }
      ]
    },
    {
      "cell_type": "code",
      "source": [
        "marks=int(input(\"enter marks\")) #if else operation\n",
        "if marks>=35:\n",
        "  print(\"pass\")\n",
        "else:\n",
        "  print(\"fail\")"
      ],
      "metadata": {
        "colab": {
          "base_uri": "https://localhost:8080/"
        },
        "id": "rFx63S2o-OoN",
        "outputId": "a7aa5d18-1450-4615-ccdd-dc60437c1043"
      },
      "execution_count": null,
      "outputs": [
        {
          "output_type": "stream",
          "name": "stdout",
          "text": [
            "enter marks100\n",
            "pass\n"
          ]
        }
      ]
    },
    {
      "cell_type": "code",
      "source": [
        "#for loop\n",
        "for letter in \"python\":\n",
        "    print(\"character\",letter)"
      ],
      "metadata": {
        "id": "UtFJikxKPpKy",
        "colab": {
          "base_uri": "https://localhost:8080/"
        },
        "outputId": "84739af1-e94c-48bd-990d-02b5ade04bac"
      },
      "execution_count": null,
      "outputs": [
        {
          "output_type": "stream",
          "name": "stdout",
          "text": [
            "character p\n",
            "character y\n",
            "character t\n",
            "character h\n",
            "character o\n",
            "character n\n"
          ]
        }
      ]
    },
    {
      "cell_type": "code",
      "source": [
        "for letter in (20,30,40,50): #for loop\n",
        "    if letter >=25:\n",
        "      print(letter,\"greater\")\n",
        "    else:\n",
        "      print(letter,\"lesser\")"
      ],
      "metadata": {
        "colab": {
          "base_uri": "https://localhost:8080/"
        },
        "id": "LXpKSWZsseI8",
        "outputId": "49d89d83-3c88-420c-f522-2a6280153929"
      },
      "execution_count": null,
      "outputs": [
        {
          "output_type": "stream",
          "name": "stdout",
          "text": [
            "20 lesser\n",
            "30 greater\n",
            "40 greater\n",
            "50 greater\n"
          ]
        }
      ]
    },
    {
      "cell_type": "code",
      "source": [
        "count=1 #example of while loop\n",
        "while count <=5:\n",
        "  print(count)\n",
        "  count=count+1\n",
        "  \n",
        "print(\"good bye\")\n",
        "\n"
      ],
      "metadata": {
        "colab": {
          "base_uri": "https://localhost:8080/"
        },
        "id": "xrTEW6g4xl-i",
        "outputId": "cc7afae6-59dd-413f-90f3-0a1d081b50e4"
      },
      "execution_count": null,
      "outputs": [
        {
          "output_type": "stream",
          "name": "stdout",
          "text": [
            "1\n",
            "2\n",
            "3\n",
            "4\n",
            "5\n",
            "good bye\n"
          ]
        }
      ]
    },
    {
      "cell_type": "code",
      "source": [
        "ak =[\"stylish\",\"royal\",\"dignity\"] #example for list\n",
        "print(ak)"
      ],
      "metadata": {
        "colab": {
          "base_uri": "https://localhost:8080/"
        },
        "id": "0nLu8l986yz-",
        "outputId": "8143d75d-653e-4c48-cd66-c012606ab33f"
      },
      "execution_count": null,
      "outputs": [
        {
          "output_type": "stream",
          "name": "stdout",
          "text": [
            "['stylish', 'royal', 'dignity']\n"
          ]
        }
      ]
    },
    {
      "cell_type": "code",
      "source": [
        "list1=[20,30,40,50] #list using append operation\n",
        "list1.append(510)\n",
        "print(list1)"
      ],
      "metadata": {
        "colab": {
          "base_uri": "https://localhost:8080/"
        },
        "id": "dx0466dx9PxE",
        "outputId": "95fa92ea-0052-4cd3-e4a6-dbbdf47205af"
      },
      "execution_count": null,
      "outputs": [
        {
          "output_type": "stream",
          "name": "stdout",
          "text": [
            "[20, 30, 40, 50, 510]\n"
          ]
        }
      ]
    },
    {
      "cell_type": "code",
      "source": [
        "akshay=[20,50,80,48] #list\n",
        "akshay.sort()\n",
        "print(\"sorted elements are:\",akshay)"
      ],
      "metadata": {
        "colab": {
          "base_uri": "https://localhost:8080/"
        },
        "id": "y0dgM3RV-kUe",
        "outputId": "63836b6f-84dc-495c-dfd0-280a9c034fe0"
      },
      "execution_count": null,
      "outputs": [
        {
          "output_type": "stream",
          "name": "stdout",
          "text": [
            "sorted elements are: [20, 48, 50, 80]\n"
          ]
        }
      ]
    },
    {
      "cell_type": "code",
      "source": [
        "fruits=[\"banana\",\"apple\",\"guva\"]\n",
        "fruits[1]=\"grapes\" #replaced operation\n",
        "print(fruits,\"replaced operation\")\n",
        "fruits.insert(1,\"blackberry\")#insert operation\n",
        "print(fruits,\"insert\")\n",
        "fruits.append(\"greenapple\")#append operation\n",
        "print(fruits,\"append operation\")\n",
        "del fruits[2]\n",
        "print(fruits,\"delete operation\")#delete operation\n",
        "fruits.reverse()\n",
        "print(fruits,\"reverse operation\") #reverse operation"
      ],
      "metadata": {
        "colab": {
          "base_uri": "https://localhost:8080/"
        },
        "id": "J23pqdW-_qZb",
        "outputId": "a8ea090e-edd0-4faa-a6dc-dd20395f065f"
      },
      "execution_count": null,
      "outputs": [
        {
          "output_type": "stream",
          "name": "stdout",
          "text": [
            "['banana', 'grapes', 'guva'] replaced operation\n",
            "['banana', 'blackberry', 'grapes', 'guva'] insert\n",
            "['banana', 'blackberry', 'grapes', 'guva', 'greenapple'] append operation\n",
            "['banana', 'blackberry', 'guva', 'greenapple'] delete operation\n",
            "['greenapple', 'guva', 'blackberry', 'banana'] reverse operation\n"
          ]
        }
      ]
    },
    {
      "cell_type": "code",
      "source": [
        "name=\"akshay\"\n",
        "list=[20,30,40,50]\n",
        "tuple=(20,10,50,40,30)\n",
        "s=\"hi raj\"\n",
        "print(name+s)#concatenation\n",
        "\n"
      ],
      "metadata": {
        "colab": {
          "base_uri": "https://localhost:8080/"
        },
        "id": "jz2W8sYdC3NV",
        "outputId": "8705dceb-562e-4b73-de7e-c9ca235bc88d"
      },
      "execution_count": null,
      "outputs": [
        {
          "output_type": "stream",
          "name": "stdout",
          "text": [
            "akshayhi raj\n"
          ]
        }
      ]
    },
    {
      "cell_type": "code",
      "source": [
        "for x in range(1,11):#for loop\n",
        "  print(x)"
      ],
      "metadata": {
        "colab": {
          "base_uri": "https://localhost:8080/"
        },
        "id": "6XVSAXTPMFpt",
        "outputId": "11accb4c-1791-489d-ccb8-329ed0740a82"
      },
      "execution_count": null,
      "outputs": [
        {
          "output_type": "stream",
          "name": "stdout",
          "text": [
            "1\n",
            "2\n",
            "3\n",
            "4\n",
            "5\n",
            "6\n",
            "7\n",
            "8\n",
            "9\n",
            "10\n"
          ]
        }
      ]
    },
    {
      "cell_type": "code",
      "source": [
        "sum =lambda a,b:a+b #sum of two numbers using lambda\n",
        "a=int(input(\"enter a=\"))\n",
        "b=int(input(\"enter b=\"))\n",
        "print(sum(a,b))"
      ],
      "metadata": {
        "colab": {
          "base_uri": "https://localhost:8080/"
        },
        "id": "3UvG2FKCYDgN",
        "outputId": "010d0301-930e-4fb8-eae6-9001efcc176d"
      },
      "execution_count": null,
      "outputs": [
        {
          "output_type": "stream",
          "name": "stdout",
          "text": [
            "enter a=2\n",
            "enter b=2\n",
            "4\n"
          ]
        }
      ]
    },
    {
      "cell_type": "code",
      "source": [
        "str =\"Hello welcome to my world\" #string\n",
        "\n",
        "str.upper()"
      ],
      "metadata": {
        "colab": {
          "base_uri": "https://localhost:8080/",
          "height": 35
        },
        "id": "Ww6xokclY53q",
        "outputId": "a5a1d562-3b26-4481-f611-898d19903c92"
      },
      "execution_count": null,
      "outputs": [
        {
          "output_type": "execute_result",
          "data": {
            "application/vnd.google.colaboratory.intrinsic+json": {
              "type": "string"
            },
            "text/plain": [
              "'HELLO WELCOME TO MY WORLD'"
            ]
          },
          "metadata": {},
          "execution_count": 15
        }
      ]
    },
    {
      "cell_type": "code",
      "source": [
        "str=\"hello welcome to world\"\n",
        "str.replace('world','aks')\n",
        "str1='123456'\n",
        "str1.isdigit()"
      ],
      "metadata": {
        "colab": {
          "base_uri": "https://localhost:8080/"
        },
        "id": "M4nekhs6Qcnv",
        "outputId": "64de73c2-2a76-4007-b31b-a838c7c687f1"
      },
      "execution_count": null,
      "outputs": [
        {
          "output_type": "execute_result",
          "data": {
            "text/plain": [
              "True"
            ]
          },
          "metadata": {},
          "execution_count": 4
        }
      ]
    },
    {
      "cell_type": "markdown",
      "source": [
        "Dictionaries are used to store data values in key:value pairs. A dictionary is a collection which is ordered*, changeable and do not allow duplicates. As of Python version 3.7, dictionaries are ordered."
      ],
      "metadata": {
        "id": "GAlLCNUWZcky"
      }
    },
    {
      "cell_type": "code",
      "source": [
        "temp={}\n",
        "temp['sun']=30 #dictionaries\n",
        "temp['Mon']=40\n",
        "temp['tue']=50\n",
        "print(temp)"
      ],
      "metadata": {
        "colab": {
          "base_uri": "https://localhost:8080/"
        },
        "id": "OcycDPxyT3cP",
        "outputId": "e1cff6e2-2d0a-451b-aeec-9461bd0d8cac"
      },
      "execution_count": null,
      "outputs": [
        {
          "output_type": "stream",
          "name": "stdout",
          "text": [
            "{'sun': 30, 'Mon': 40, 'tue': 50}\n"
          ]
        }
      ]
    },
    {
      "cell_type": "code",
      "source": [
        "mail={'akshay':'akshay@gmail.com','abhi':'abhi@gmail.com'}\n",
        "mail.keys()\n",
        "#{key:value,key:value}syntax of dictionaries\n",
        "\n"
      ],
      "metadata": {
        "colab": {
          "base_uri": "https://localhost:8080/"
        },
        "id": "-KJ-1sMJYpif",
        "outputId": "650c7131-dedf-4754-97b1-5f0adf622b20"
      },
      "execution_count": null,
      "outputs": [
        {
          "output_type": "execute_result",
          "data": {
            "text/plain": [
              "dict_keys(['akshay', 'abhi'])"
            ]
          },
          "metadata": {},
          "execution_count": 12
        }
      ]
    },
    {
      "cell_type": "code",
      "source": [
        ""
      ],
      "metadata": {
        "id": "6i7sM90LY_-O"
      },
      "execution_count": null,
      "outputs": []
    }
  ]
}